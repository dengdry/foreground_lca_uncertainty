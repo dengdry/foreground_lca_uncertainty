{
 "cells": [
  {
   "cell_type": "markdown",
   "source": [
    "# Uncertainty Demo with Brightway2.5\n",
    "This notebook demonstrates how to:\n",
    "- Set up a Brightway2.5 project\n",
    "- Import an Excel-based foreground system\n",
    "- Apply Pedigree Matrix uncertainty\n",
    "- Run Monte Carlo LCA\n",
    "- Visualize the uncertainty distribution"
   ],
   "metadata": {
    "collapsed": false
   },
   "id": "1fef88d6a8001830"
  },
  {
   "cell_type": "markdown",
   "source": [
    "## Setup and Initialization"
   ],
   "metadata": {
    "collapsed": false
   },
   "id": "1b6e38c409085a92"
  },
  {
   "cell_type": "code",
   "execution_count": 1,
   "id": "initial_id",
   "metadata": {
    "collapsed": true,
    "ExecuteTime": {
     "end_time": "2025-07-07T12:50:04.128582900Z",
     "start_time": "2025-07-07T12:49:57.890116100Z"
    }
   },
   "outputs": [],
   "source": [
    "from src import lca_utils\n",
    "import matplotlib.pyplot as plt\n",
    "import bw2data as bd"
   ]
  },
  {
   "cell_type": "code",
   "execution_count": 2,
   "outputs": [
    {
     "name": "stdout",
     "output_type": "stream",
     "text": [
      "Biosphere database already present!!! No setup is needed\n"
     ]
    }
   ],
   "source": [
    "lca_utils.setup_project(\"for_uncertainty\")"
   ],
   "metadata": {
    "collapsed": false,
    "ExecuteTime": {
     "end_time": "2025-07-07T12:50:04.197271200Z",
     "start_time": "2025-07-07T12:50:04.132643700Z"
    }
   },
   "id": "66af7a9f27b11257"
  },
  {
   "cell_type": "markdown",
   "source": [
    "## Import Foreground System from Excel"
   ],
   "metadata": {
    "collapsed": false
   },
   "id": "6bbe3479aee21100"
  },
  {
   "cell_type": "code",
   "execution_count": 3,
   "outputs": [
    {
     "name": "stdout",
     "output_type": "stream",
     "text": [
      "[INFO] Background DB already exists.\n",
      "Extracted 1 worksheets in 0.02 seconds\n",
      "Applying strategy: csv_restore_tuples\n",
      "Applying strategy: csv_restore_booleans\n",
      "Applying strategy: csv_numerize\n",
      "Applying strategy: csv_drop_unknown\n",
      "Applying strategy: csv_add_missing_exchanges_section\n",
      "Applying strategy: normalize_units\n",
      "Applying strategy: normalize_biosphere_categories\n",
      "Applying strategy: normalize_biosphere_names\n",
      "Applying strategy: strip_biosphere_exc_locations\n",
      "Applying strategy: set_code_by_activity_hash\n",
      "Applying strategy: link_iterable_by_fields\n",
      "Applying strategy: assign_only_product_as_production\n",
      "Applying strategy: link_technosphere_by_activity_hash\n",
      "Applying strategy: drop_falsey_uncertainty_fields_but_keep_zeros\n",
      "Applying strategy: convert_uncertainty_types_to_integers\n",
      "Applying strategy: convert_activity_parameters_to_list\n",
      "Applied 16 strategies in 11.41 seconds\n",
      "Applying strategy: link_iterable_by_fields\n",
      "Applying strategy: link_iterable_by_fields\n"
     ]
    },
    {
     "name": "stderr",
     "output_type": "stream",
     "text": [
      "100%|██████████| 3/3 [00:00<?, ?it/s]\n"
     ]
    },
    {
     "name": "stdout",
     "output_type": "stream",
     "text": [
      "Vacuuming database \n",
      "Created database: foreground_db\n",
      "[INFO] Foreground DB written.\n"
     ]
    }
   ],
   "source": [
    "lca_utils.import_background(\"...your ecoinvent link\", \"ev391cutoff_uni\")\n",
    "lca_utils.import_foreground_with_uncertainty(\n",
    "    excel_path=\"../data/excel_importer_example.xlsx\",\n",
    "    fg_db_name=\"foreground_db\",\n",
    "    bg_db_name=\"ev391cutoff_uni\"\n",
    ")"
   ],
   "metadata": {
    "collapsed": false,
    "ExecuteTime": {
     "end_time": "2025-07-07T12:50:54.038738700Z",
     "start_time": "2025-07-07T12:50:04.200824900Z"
    }
   },
   "id": "5090a9fd6e020860"
  },
  {
   "cell_type": "markdown",
   "source": [
    "## Apply Pedigree Matrix Uncertainty to Foreground Exchanges and Monte Carlo Simulation"
   ],
   "metadata": {
    "collapsed": false
   },
   "id": "24a33b85808c6c4a"
  },
  {
   "cell_type": "code",
   "execution_count": 4,
   "outputs": [],
   "source": [
    "impact_category = [m for m in bd.methods if 'IPCC 2021' in str(m) and 'GWP100' in str(m)][0]\n",
    "database_name = \"foreground_db\"\n",
    "reference_product = \"flameprotection\""
   ],
   "metadata": {
    "collapsed": false,
    "ExecuteTime": {
     "end_time": "2025-07-07T12:50:54.055644300Z",
     "start_time": "2025-07-07T12:50:54.044269500Z"
    }
   },
   "id": "99f8831eb456162c"
  },
  {
   "cell_type": "code",
   "execution_count": 5,
   "outputs": [],
   "source": [
    "results = lca_utils.run_mc_simulation(\n",
    "    fg_db_name=database_name,\n",
    "    product_key=reference_product,\n",
    "    method = impact_category,\n",
    "    iterations=100\n",
    ")"
   ],
   "metadata": {
    "collapsed": false,
    "ExecuteTime": {
     "end_time": "2025-07-07T12:52:21.780504600Z",
     "start_time": "2025-07-07T12:50:54.051744300Z"
    }
   },
   "id": "8e769f150e3e317b"
  },
  {
   "cell_type": "markdown",
   "source": [
    "## Plot Results"
   ],
   "metadata": {
    "collapsed": false
   },
   "id": "7cc830aaa76b00fe"
  },
  {
   "cell_type": "code",
   "execution_count": 6,
   "outputs": [
    {
     "data": {
      "text/plain": "<Figure size 640x480 with 1 Axes>",
      "image/png": "[encoded data removed]"
     },
     "metadata": {},
     "output_type": "display_data"
    }
   ],
   "source": [
    "plt.hist(results, bins=30, density=True, alpha=0.7, label=\"With Uncertainty\")\n",
    "plt.title(\"Monte Carlo Impact Score Distribution\")\n",
    "plt.xlabel(\"Impact Score (GWP100)\")\n",
    "plt.ylabel(\"Density\")\n",
    "plt.grid(True)\n",
    "plt.legend()\n",
    "plt.tight_layout()\n",
    "plt.show()"
   ],
   "metadata": {
    "collapsed": false,
    "ExecuteTime": {
     "end_time": "2025-07-07T12:52:22.036183100Z",
     "start_time": "2025-07-07T12:52:21.784503Z"
    }
   },
   "id": "94bfc9222062611"
  },
  {
   "cell_type": "code",
   "execution_count": null,
   "outputs": [],
   "source": [],
   "metadata": {
    "collapsed": false
   },
   "id": "7a401c7993b89162"
  }
 ],
 "metadata": {
  "kernelspec": {
   "display_name": "Python 3",
   "language": "python",
   "name": "python3"
  },
  "language_info": {
   "codemirror_mode": {
    "name": "ipython",
    "version": 2
   },
   "file_extension": ".py",
   "mimetype": "text/x-python",
   "name": "python",
   "nbconvert_exporter": "python",
   "pygments_lexer": "ipython2",
   "version": "2.7.6"
  }
 },
 "nbformat": 4,
 "nbformat_minor": 5
}
